{
 "cells": [
  {
   "cell_type": "raw",
   "id": "92879983",
   "metadata": {},
   "source": [
    "---\n",
    "title: Finance dashboard\n",
    "description: Dashboard with financial data\n",
    "show-code: False\n",
    "params:\n",
    "    ticker: \n",
    "        input: select\n",
    "        value: TSLA\n",
    "        label: Select ticker\n",
    "        choices: [TSLA, COIN, MSFT, PLTR, SNOW, NFLX]\n",
    "---"
   ]
  },
  {
   "cell_type": "code",
   "execution_count": 7,
   "id": "ba501712",
   "metadata": {},
   "outputs": [],
   "source": [
    "import yfinance as yf\n",
    "import mplfinance as mpf"
   ]
  },
  {
   "cell_type": "code",
   "execution_count": 8,
   "id": "5787a55b",
   "metadata": {},
   "outputs": [],
   "source": [
    "ticker = \"TSLA\""
   ]
  },
  {
   "cell_type": "code",
   "execution_count": 13,
   "id": "f3721ac6",
   "metadata": {},
   "outputs": [
    {
     "name": "stdout",
     "output_type": "stream",
     "text": [
      "Selected ticker: TSLA\n"
     ]
    }
   ],
   "source": [
    "print(f\"Selected ticker: {ticker}\")"
   ]
  },
  {
   "cell_type": "code",
   "execution_count": 9,
   "id": "4eaf22a1",
   "metadata": {},
   "outputs": [],
   "source": [
    "history = yf.Ticker(ticker).history(period=\"3mo\")"
   ]
  },
  {
   "cell_type": "code",
   "execution_count": 15,
   "id": "ba81bad6",
   "metadata": {},
   "outputs": [
    {
     "name": "stdout",
     "output_type": "stream",
     "text": [
      "3 months low: 101.80999755859375\n"
     ]
    }
   ],
   "source": [
    "print(f\"3 months low: {history.Low.min()}\")"
   ]
  },
  {
   "cell_type": "code",
   "execution_count": 21,
   "id": "1cade8c3",
   "metadata": {
    "scrolled": true
   },
   "outputs": [
    {
     "name": "stdout",
     "output_type": "stream",
     "text": [
      "3 months low: 101\n",
      "3 months high: 237\n"
     ]
    }
   ],
   "source": [
    "print(f\"3 months low: {history.Low.astype(int).min()}\")\n",
    "print(f\"3 months high: {history.High.astype(int).max()}\")"
   ]
  },
  {
   "cell_type": "code",
   "execution_count": 11,
   "id": "4790c9a5",
   "metadata": {},
   "outputs": [
    {
     "data": {
      "text/html": [
       "<div>\n",
       "<style scoped>\n",
       "    .dataframe tbody tr th:only-of-type {\n",
       "        vertical-align: middle;\n",
       "    }\n",
       "\n",
       "    .dataframe tbody tr th {\n",
       "        vertical-align: top;\n",
       "    }\n",
       "\n",
       "    .dataframe thead th {\n",
       "        text-align: right;\n",
       "    }\n",
       "</style>\n",
       "<table border=\"1\" class=\"dataframe\">\n",
       "  <thead>\n",
       "    <tr style=\"text-align: right;\">\n",
       "      <th></th>\n",
       "      <th>Open</th>\n",
       "      <th>High</th>\n",
       "      <th>Low</th>\n",
       "      <th>Close</th>\n",
       "      <th>Volume</th>\n",
       "      <th>Dividends</th>\n",
       "      <th>Stock Splits</th>\n",
       "    </tr>\n",
       "    <tr>\n",
       "      <th>Date</th>\n",
       "      <th></th>\n",
       "      <th></th>\n",
       "      <th></th>\n",
       "      <th></th>\n",
       "      <th></th>\n",
       "      <th></th>\n",
       "      <th></th>\n",
       "    </tr>\n",
       "  </thead>\n",
       "  <tbody>\n",
       "    <tr>\n",
       "      <th>2023-01-13 00:00:00-05:00</th>\n",
       "      <td>116.550003</td>\n",
       "      <td>122.629997</td>\n",
       "      <td>115.599998</td>\n",
       "      <td>122.400002</td>\n",
       "      <td>180439300</td>\n",
       "      <td>0.0</td>\n",
       "      <td>0.0</td>\n",
       "    </tr>\n",
       "    <tr>\n",
       "      <th>2023-01-17 00:00:00-05:00</th>\n",
       "      <td>125.699997</td>\n",
       "      <td>131.699997</td>\n",
       "      <td>125.019997</td>\n",
       "      <td>131.490005</td>\n",
       "      <td>186477000</td>\n",
       "      <td>0.0</td>\n",
       "      <td>0.0</td>\n",
       "    </tr>\n",
       "    <tr>\n",
       "      <th>2023-01-18 00:00:00-05:00</th>\n",
       "      <td>136.559998</td>\n",
       "      <td>136.679993</td>\n",
       "      <td>127.010002</td>\n",
       "      <td>128.779999</td>\n",
       "      <td>195680300</td>\n",
       "      <td>0.0</td>\n",
       "      <td>0.0</td>\n",
       "    </tr>\n",
       "    <tr>\n",
       "      <th>2023-01-19 00:00:00-05:00</th>\n",
       "      <td>127.260002</td>\n",
       "      <td>129.990005</td>\n",
       "      <td>124.309998</td>\n",
       "      <td>127.169998</td>\n",
       "      <td>170291900</td>\n",
       "      <td>0.0</td>\n",
       "      <td>0.0</td>\n",
       "    </tr>\n",
       "    <tr>\n",
       "      <th>2023-01-20 00:00:00-05:00</th>\n",
       "      <td>128.679993</td>\n",
       "      <td>133.509995</td>\n",
       "      <td>127.349998</td>\n",
       "      <td>133.419998</td>\n",
       "      <td>138429900</td>\n",
       "      <td>0.0</td>\n",
       "      <td>0.0</td>\n",
       "    </tr>\n",
       "  </tbody>\n",
       "</table>\n",
       "</div>"
      ],
      "text/plain": [
       "                                 Open        High         Low       Close  \\\n",
       "Date                                                                        \n",
       "2023-01-13 00:00:00-05:00  116.550003  122.629997  115.599998  122.400002   \n",
       "2023-01-17 00:00:00-05:00  125.699997  131.699997  125.019997  131.490005   \n",
       "2023-01-18 00:00:00-05:00  136.559998  136.679993  127.010002  128.779999   \n",
       "2023-01-19 00:00:00-05:00  127.260002  129.990005  124.309998  127.169998   \n",
       "2023-01-20 00:00:00-05:00  128.679993  133.509995  127.349998  133.419998   \n",
       "\n",
       "                              Volume  Dividends  Stock Splits  \n",
       "Date                                                           \n",
       "2023-01-13 00:00:00-05:00  180439300        0.0           0.0  \n",
       "2023-01-17 00:00:00-05:00  186477000        0.0           0.0  \n",
       "2023-01-18 00:00:00-05:00  195680300        0.0           0.0  \n",
       "2023-01-19 00:00:00-05:00  170291900        0.0           0.0  \n",
       "2023-01-20 00:00:00-05:00  138429900        0.0           0.0  "
      ]
     },
     "execution_count": 11,
     "metadata": {},
     "output_type": "execute_result"
    }
   ],
   "source": [
    "history.tail()"
   ]
  },
  {
   "cell_type": "code",
   "execution_count": 12,
   "id": "46eeaa99",
   "metadata": {},
   "outputs": [
    {
     "data": {
      "image/png": "[encoded data removed]",
      "text/plain": [
       "<Figure size 745.2x414 with 2 Axes>"
      ]
     },
     "metadata": {
      "needs_background": "light"
     },
     "output_type": "display_data"
    }
   ],
   "source": [
    "mpf.plot(history, type='candle', mav=(7),figratio=(18,10))"
   ]
  }
 ],
 "metadata": {
  "kernelspec": {
   "display_name": "Python 3 (ipykernel)",
   "language": "python",
   "name": "python3"
  },
  "language_info": {
   "codemirror_mode": {
    "name": "ipython",
    "version": 3
   },
   "file_extension": ".py",
   "mimetype": "text/x-python",
   "name": "python",
   "nbconvert_exporter": "python",
   "pygments_lexer": "ipython3",
   "version": "3.9.12"
  }
 },
 "nbformat": 4,
 "nbformat_minor": 5
}
